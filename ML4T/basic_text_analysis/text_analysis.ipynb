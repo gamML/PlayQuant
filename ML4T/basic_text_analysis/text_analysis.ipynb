{
 "cells": [
  {
   "cell_type": "code",
   "execution_count": 1,
   "metadata": {
    "collapsed": false
   },
   "outputs": [],
   "source": [
    "import string\n",
    "import os\n",
    "import nltk\n",
    "import chardet   \n",
    "from nltk.corpus import stopwords\n",
    "from nltk.stem.porter import PorterStemmer\n",
    "from sklearn.feature_extraction.text import TfidfVectorizer,CountVectorizer\n",
    "from sklearn.neighbors import KNeighborsClassifier,NearestNeighbors\n",
    "from collections import Counter\n",
    "import pandas as pd"
   ]
  },
  {
   "cell_type": "code",
   "execution_count": 2,
   "metadata": {
    "collapsed": true
   },
   "outputs": [],
   "source": [
    "porter_stemmer = PorterStemmer()"
   ]
  },
  {
   "cell_type": "code",
   "execution_count": 3,
   "metadata": {
    "collapsed": false
   },
   "outputs": [
    {
     "name": "stdout",
     "output_type": "stream",
     "text": [
      "Org: 40\n",
      "Non stops: 27\n"
     ]
    },
    {
     "data": {
      "text/plain": [
       "{u'abil': 1,\n",
       " u'agribusi': 1,\n",
       " u'chang': 1,\n",
       " u'compet': 1,\n",
       " u'competit': 1,\n",
       " u'depend': 1,\n",
       " u'evolv': 1,\n",
       " u'frequent': 1,\n",
       " u'heavili': 1,\n",
       " u'intens': 1,\n",
       " u'introduct': 1,\n",
       " u'jame': 1,\n",
       " u'need': 1,\n",
       " u'new': 1,\n",
       " u'oshawne': 1,\n",
       " u'product': 2,\n",
       " u'provid': 1,\n",
       " u'rapidli': 1,\n",
       " u'servic': 2,\n",
       " u'shift': 1,\n",
       " u'sincer': 1,\n",
       " u'subject': 1,\n",
       " u'success': 1,\n",
       " u'technolog': 1,\n",
       " u'user': 1}"
      ]
     },
     "execution_count": 3,
     "metadata": {},
     "output_type": "execute_result"
    }
   ],
   "source": [
    "def get_tokens(filename, stemmer=None):\n",
    "    with open(filename,\"r\") as f:\n",
    "        rawdata = f.read()\n",
    "        text = str(rawdata.decode(chardet.detect(rawdata)['encoding']).lower())\n",
    "    #remove the punctuation using the character deletion step of translate\n",
    "    no_punctuation = text.translate(None, string.punctuation)\n",
    "    tokens = nltk.word_tokenize(no_punctuation)\n",
    "#     filtered = tokens\n",
    "    filtered = [w for w in tokens if not w in stopwords.words('english')]\n",
    "    if stemmer is not None:\n",
    "        nonstem = len(filtered)\n",
    "        filtered = map(lambda word: stemmer.stem(unicode(word)),filtered)\n",
    "        if nonstem!= len(filtered):\n",
    "            print \"======================Stem functioned!===================\"\n",
    "    print \"Org:\", len(tokens)\n",
    "    print \"Non stops:\", len(filtered)\n",
    "    count = Counter(filtered)\n",
    "    return dict(count)\n",
    "\n",
    "get_tokens('Words-to-numbers.txt',porter_stemmer)"
   ]
  },
  {
   "cell_type": "code",
   "execution_count": 4,
   "metadata": {
    "collapsed": true
   },
   "outputs": [],
   "source": [
    "def read_text(filename):\n",
    "    with open(filename,\"r\") as f:\n",
    "        rawdata = f.read()\n",
    "        text = rawdata.decode(chardet.detect(rawdata)['encoding'])\n",
    "    return text"
   ]
  },
  {
   "cell_type": "code",
   "execution_count": 5,
   "metadata": {
    "collapsed": false,
    "scrolled": false
   },
   "outputs": [],
   "source": [
    "MAP = {\"good\":1, \"bad\":-1}\n",
    "results = {'label':[],'raw_text':[]}\n",
    "for flag in MAP:\n",
    "    files = os.listdir(os.path.join(\"GoodBad\",flag))\n",
    "    for f in files:\n",
    "        results['label'].append(MAP[flag])\n",
    "        results['raw_text'].append(read_text(os.path.join(\"GoodBad\",flag,f)))"
   ]
  },
  {
   "cell_type": "code",
   "execution_count": 6,
   "metadata": {
    "collapsed": true
   },
   "outputs": [],
   "source": [
    "corpus = pd.DataFrame(results)"
   ]
  },
  {
   "cell_type": "code",
   "execution_count": 7,
   "metadata": {
    "collapsed": true
   },
   "outputs": [],
   "source": [
    "def tokenize(text, stemmer=None):\n",
    "    #remove the punctuation using the character deletion step of translate\n",
    "    no_punctuation = str(text.lower()).translate(None, string.punctuation)\n",
    "    tokens = nltk.word_tokenize(no_punctuation)\n",
    "    filtered = [w for w in tokens if not w in stopwords.words('english')]\n",
    "    if stemmer is not None:\n",
    "        nonstem = len(filtered)\n",
    "        filtered = map(lambda word: stemmer.stem(unicode(word)),filtered)\n",
    "        if nonstem!= len(filtered):\n",
    "            print \"======================Stem functioned!===================\"\n",
    "#     print \"Org:\", len(tokens)\n",
    "#     print \"Non stops:\", len(filtered)\n",
    "    return filtered"
   ]
  },
  {
   "cell_type": "code",
   "execution_count": 8,
   "metadata": {
    "collapsed": false,
    "scrolled": true
   },
   "outputs": [],
   "source": [
    "tfidf_convert = TfidfVectorizer(tokenizer=tokenize).fit(corpus['raw_text'])\n",
    "count_convert = CountVectorizer(tokenizer=tokenize).fit(corpus['raw_text'])"
   ]
  },
  {
   "cell_type": "code",
   "execution_count": 9,
   "metadata": {
    "collapsed": false
   },
   "outputs": [],
   "source": [
    "tfidf = tfidf_convert.transform(corpus['raw_text'])\n",
    "word_count = count_convert.transform(corpus['raw_text'])"
   ]
  },
  {
   "cell_type": "code",
   "execution_count": 10,
   "metadata": {
    "collapsed": false
   },
   "outputs": [
    {
     "data": {
      "text/plain": [
       "(16, 2137)"
      ]
     },
     "execution_count": 10,
     "metadata": {},
     "output_type": "execute_result"
    }
   ],
   "source": [
    "tfidf.shape"
   ]
  },
  {
   "cell_type": "code",
   "execution_count": 11,
   "metadata": {
    "collapsed": false,
    "scrolled": false
   },
   "outputs": [
    {
     "data": {
      "text/plain": [
       "(16, 2137)"
      ]
     },
     "execution_count": 11,
     "metadata": {},
     "output_type": "execute_result"
    }
   ],
   "source": [
    "word_count.shape"
   ]
  },
  {
   "cell_type": "code",
   "execution_count": 12,
   "metadata": {
    "collapsed": true
   },
   "outputs": [],
   "source": [
    "from sklearn.metrics.pairwise import pairwise_distances"
   ]
  },
  {
   "cell_type": "code",
   "execution_count": 13,
   "metadata": {
    "collapsed": false
   },
   "outputs": [
    {
     "data": {
      "text/plain": [
       "array([[ 0,  7, 11,  6,  5, 14, 12,  3,  2,  4, 13,  1,  9, 15, 10,  8],\n",
       "       [ 1,  2, 13, 11,  5, 12,  0,  9,  4,  7, 10,  3, 15,  6, 14,  8],\n",
       "       [ 2,  9, 13,  4, 12,  3, 10,  1, 11,  0,  6,  5,  7, 14,  8, 15],\n",
       "       [ 3, 13,  2, 14,  4,  7,  0,  6,  9, 12, 15,  5,  1,  8, 11, 10],\n",
       "       [ 4,  2, 13,  6, 14, 15,  3, 12, 11,  7,  0,  5,  8,  9,  1, 10],\n",
       "       [ 5,  7,  6, 15,  0,  1, 14,  4,  2, 11,  3, 13, 12, 10,  9,  8],\n",
       "       [ 6, 14, 15,  7,  5, 13,  4,  0, 12, 11,  3,  2,  8,  9,  1, 10],\n",
       "       [ 7,  5,  6, 15, 14,  0,  3,  4, 11,  8,  2, 10, 12, 13,  1,  9],\n",
       "       [ 8, 12,  7,  4,  6, 13,  3,  2, 14, 11, 15,  5,  9,  0, 10,  1],\n",
       "       [ 9,  2, 12, 13, 10,  4,  3,  1,  0, 11,  7,  6,  5, 15, 14,  8],\n",
       "       [10,  2,  9, 12, 14,  7, 13,  1,  4,  5,  6,  3, 11,  0, 15,  8],\n",
       "       [11, 13,  0,  2,  6,  4, 14,  1, 12,  7, 15,  5,  9,  8,  3, 10],\n",
       "       [12, 13,  2,  9,  6,  4,  0, 11,  1,  8, 10,  3,  7, 14, 15,  5],\n",
       "       [13,  3,  2, 12,  4,  6, 11, 15, 14,  1,  9,  0, 10,  7,  8,  5],\n",
       "       [14,  6, 15,  7,  4,  3, 13,  0, 11,  5,  2, 10, 12,  8,  1,  9],\n",
       "       [15, 14,  6,  7,  5,  4, 13, 11, 12,  3,  1,  0,  8, 10,  2,  9]], dtype=int64)"
      ]
     },
     "execution_count": 13,
     "metadata": {},
     "output_type": "execute_result"
    }
   ],
   "source": [
    "word_count_mat = pairwise_distances(word_count,word_count,metric='cosine')\n",
    "word_count_mat.argsort()"
   ]
  },
  {
   "cell_type": "code",
   "execution_count": 14,
   "metadata": {
    "collapsed": false
   },
   "outputs": [
    {
     "name": "stdout",
     "output_type": "stream",
     "text": [
      "Good-good distance: 0.859429335831\n",
      "Good-bad distance: 0.869553658034\n",
      "Bad-good distance: 0.869553658034\n",
      "Bad-bad distance: 0.883246290411\n"
     ]
    }
   ],
   "source": [
    "distance_mat = word_count_mat\n",
    "print \"Good-good distance:\", distance_mat[:8,:8].sum() / 56\n",
    "print \"Good-bad distance:\", distance_mat[8:,:8].mean()\n",
    "print \"Bad-good distance:\", distance_mat[:8,8:].mean()\n",
    "print \"Bad-bad distance:\", distance_mat[8:,8:].sum() / 56"
   ]
  },
  {
   "cell_type": "code",
   "execution_count": 15,
   "metadata": {
    "collapsed": false
   },
   "outputs": [
    {
     "data": {
      "text/plain": [
       "array([[ 0,  7,  5,  6, 14, 11, 12,  4,  3,  2,  9, 13,  1, 15, 10,  8],\n",
       "       [ 1,  5,  2, 11, 10, 13, 15, 12,  7,  6,  4,  0, 14,  9,  3,  8],\n",
       "       [ 2,  9,  4, 12,  3, 10,  1, 13,  5, 11,  7,  6, 14,  8,  0, 15],\n",
       "       [ 3, 13, 14,  2,  4,  7,  6,  5,  9,  8,  0, 12, 15,  1, 10, 11],\n",
       "       [ 4,  2,  6, 13, 15, 14,  3,  5,  7, 11,  8,  0, 12,  9,  1, 10],\n",
       "       [ 5,  7,  6,  1, 15,  0, 14,  4,  2,  3, 11, 12, 13,  8,  9, 10],\n",
       "       [ 6, 15, 14,  5,  7, 13,  4,  0, 12, 11,  8,  3,  2,  1,  9, 10],\n",
       "       [ 7,  5,  6, 15,  0, 14,  8,  4,  3, 11,  2, 12,  1, 13, 10,  9],\n",
       "       [ 8,  7, 12,  6,  4, 14,  3,  5, 13,  2, 15, 11,  9, 10,  0,  1],\n",
       "       [ 9,  2, 12, 10,  3,  4, 13,  5,  0,  6,  7,  1, 11,  8, 15, 14],\n",
       "       [10,  2,  9,  1, 14, 12,  5, 13,  7,  4,  3, 11,  6, 15,  0,  8],\n",
       "       [11, 14,  6,  0,  4,  1,  7, 15,  2,  5, 13, 12,  8,  9, 10,  3],\n",
       "       [12,  2, 13,  6,  9,  0,  8, 10,  7, 14,  1,  4,  5,  3, 15, 11],\n",
       "       [13,  3,  6,  4, 15, 12, 14,  2,  1, 11,  9,  5,  8,  7,  0, 10],\n",
       "       [14,  6, 15,  7,  3,  4,  5, 13, 11,  0,  8, 10, 12,  2,  1,  9],\n",
       "       [15,  6, 14,  7,  5,  4, 13, 11,  1,  3, 12,  0,  8, 10,  9,  2]], dtype=int64)"
      ]
     },
     "execution_count": 15,
     "metadata": {},
     "output_type": "execute_result"
    }
   ],
   "source": [
    "tfidf_mat = pairwise_distances(tfidf,tfidf,metric='cosine')\n",
    "tfidf_mat.argsort()"
   ]
  },
  {
   "cell_type": "code",
   "execution_count": 16,
   "metadata": {
    "collapsed": false
   },
   "outputs": [
    {
     "name": "stdout",
     "output_type": "stream",
     "text": [
      "Good-good distance: 0.932577084579\n",
      "Good-bad distance: 0.93953756659\n",
      "Bad-good distance: 0.93953756659\n",
      "Bad-bad distance: 0.947940534062\n"
     ]
    }
   ],
   "source": [
    "distance_mat = tfidf_mat\n",
    "print \"Good-good distance:\", distance_mat[:8,:8].sum() / 56\n",
    "print \"Good-bad distance:\", distance_mat[8:,:8].mean()\n",
    "print \"Bad-good distance:\", distance_mat[:8,8:].mean()\n",
    "print \"Bad-bad distance:\", distance_mat[8:,8:].sum() / 56"
   ]
  },
  {
   "cell_type": "code",
   "execution_count": 17,
   "metadata": {
    "collapsed": false
   },
   "outputs": [],
   "source": [
    "import matplotlib.pyplot as plt\n",
    "%matplotlib inline"
   ]
  },
  {
   "cell_type": "code",
   "execution_count": 18,
   "metadata": {
    "collapsed": false
   },
   "outputs": [
    {
     "name": "stdout",
     "output_type": "stream",
     "text": [
      "0 1.0\n",
      "1 0.375\n",
      "2 0.75\n",
      "3 0.3125\n",
      "4 0.4375\n",
      "5 0.3125\n",
      "6 0.5\n",
      "7 0.6875\n",
      "8 0.5\n",
      "9 0.3125\n",
      "10 0.5625\n",
      "11 0.5\n",
      "12 0.5625\n",
      "13 0.4375\n",
      "14 0.4375\n",
      "15 0.3125\n"
     ]
    }
   ],
   "source": [
    "features = tfidf\n",
    "nbrs = NearestNeighbors(n_neighbors=len(corpus)).fit(features)\n",
    "distances, indices = nbrs.kneighbors(features)\n",
    "res = []\n",
    "for idx in range(len(corpus)):\n",
    "    res.append((corpus['label'].values == corpus.ix[indices[:,idx]]['label'].values).mean())\n",
    "    print idx, res[idx]"
   ]
  },
  {
   "cell_type": "code",
   "execution_count": 20,
   "metadata": {
    "collapsed": false
   },
   "outputs": [
    {
     "name": "stdout",
     "output_type": "stream",
     "text": [
      "[[ 3 13  4  0  8 14  2  9 15  5  6 12 11  7  1 10]]\n"
     ]
    }
   ],
   "source": [
    "converter = tfidf_convert\n",
    "sample_vec = converter.transform([read_text('Words-to-numbers.txt')])\n",
    "print nbrs.kneighbors(sample_vec)[1]"
   ]
  },
  {
   "cell_type": "code",
   "execution_count": 21,
   "metadata": {
    "collapsed": false
   },
   "outputs": [
    {
     "data": {
      "text/plain": [
       "<Container object of 15 artists>"
      ]
     },
     "execution_count": 21,
     "metadata": {},
     "output_type": "execute_result"
    },
    {
     "data": {
      "image/png": "[encoded data removed]",
      "text/plain": [
       "<matplotlib.figure.Figure at 0xb3d5ac8>"
      ]
     },
     "metadata": {},
     "output_type": "display_data"
    }
   ],
   "source": [
    "res = res[1:]\n",
    "plt.bar(range(len(res)),res)"
   ]
  },
  {
   "cell_type": "code",
   "execution_count": 22,
   "metadata": {
    "collapsed": false
   },
   "outputs": [
    {
     "name": "stdout",
     "output_type": "stream",
     "text": [
      "0 1.0\n",
      "1 0.375\n",
      "2 0.4375\n",
      "3 0.4375\n",
      "4 0.375\n",
      "5 0.625\n",
      "6 0.5625\n",
      "7 0.4375\n",
      "8 0.625\n",
      "9 0.375\n",
      "10 0.375\n",
      "11 0.375\n",
      "12 0.5625\n",
      "13 0.5\n",
      "14 0.5\n",
      "15 0.4375\n"
     ]
    }
   ],
   "source": [
    "features = word_count\n",
    "nbrs = NearestNeighbors(n_neighbors=len(corpus)).fit(features)\n",
    "distances, indices = nbrs.kneighbors(features)\n",
    "res = []\n",
    "for idx in range(len(corpus)):\n",
    "    res.append((corpus['label'].values == corpus.ix[indices[:,idx]]['label'].values).mean())\n",
    "    print idx, res[idx]"
   ]
  },
  {
   "cell_type": "code",
   "execution_count": 23,
   "metadata": {
    "collapsed": false
   },
   "outputs": [
    {
     "name": "stdout",
     "output_type": "stream",
     "text": [
      "[[ 1  8 11 12  3  2  5  9  6  0  4 10 15 13  7 14]]\n"
     ]
    }
   ],
   "source": [
    "converter = count_convert\n",
    "sample_vec = converter.transform([read_text('Words-to-numbers.txt')])\n",
    "print nbrs.kneighbors(sample_vec)[1]"
   ]
  },
  {
   "cell_type": "code",
   "execution_count": 24,
   "metadata": {
    "collapsed": false
   },
   "outputs": [
    {
     "data": {
      "text/plain": [
       "<Container object of 15 artists>"
      ]
     },
     "execution_count": 24,
     "metadata": {},
     "output_type": "execute_result"
    },
    {
     "data": {
      "image/png": "[encoded data removed]",
      "text/plain": [
       "<matplotlib.figure.Figure at 0xbf679b0>"
      ]
     },
     "metadata": {},
     "output_type": "display_data"
    }
   ],
   "source": [
    "res = res[1:]\n",
    "plt.bar(range(len(res)),res)"
   ]
  },
  {
   "cell_type": "markdown",
   "metadata": {},
   "source": [
    "# Both poor performance due to naive algorithm and poor corpus, while it seems tfidf is still little bit better than word_count"
   ]
  },
  {
   "cell_type": "code",
   "execution_count": null,
   "metadata": {
    "collapsed": true
   },
   "outputs": [],
   "source": []
  }
 ],
 "metadata": {
  "kernelspec": {
   "display_name": "Python 2",
   "language": "python",
   "name": "python2"
  },
  "language_info": {
   "codemirror_mode": {
    "name": "ipython",
    "version": 2
   },
   "file_extension": ".py",
   "mimetype": "text/x-python",
   "name": "python",
   "nbconvert_exporter": "python",
   "pygments_lexer": "ipython2",
   "version": "2.7.11"
  }
 },
 "nbformat": 4,
 "nbformat_minor": 0
}
